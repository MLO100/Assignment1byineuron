{
 "cells": [
  {
   "cell_type": "markdown",
   "metadata": {},
   "source": [
    "# TASK-1"
   ]
  },
  {
   "cell_type": "code",
   "execution_count": null,
   "metadata": {},
   "outputs": [],
   "source": [
    "try:\n",
    "    a=int(input())\n",
    "    5/a\n",
    "    print(\"5 is divisible by a\")\n",
    "except Exception as e:\n",
    "    if a==0:\n",
    "        print(e)"
   ]
  },
  {
   "cell_type": "code",
   "execution_count": null,
   "metadata": {},
   "outputs": [],
   "source": [
    "subjects=[\"Americans \",\"Indians\"]\n",
    "verbs=[\"play\",\"watch\"]\n",
    "objects=[\"Baseball\",\"Cricket\"]\n",
    "\n",
    "print(subjects[0]+verbs[0]+objects[0]) \n",
    "print(subjects[0]+verbs[0]+objects[1]) \n",
    "print(subjects[0]+verbs[1]+objects[0])\n",
    "print(subjects[0]+verbs[1]+objects[1])\n",
    "print(subjects[1]+verbs[0]+objects[0])\n",
    "print(subjects[1]+verbs[0]+objects[1])\n",
    "print(subjects[1]+verbs[1]+objects[0])\n",
    "print(subjects[1]+verbs[1]+objects[1])\n",
    "\n",
    "\n",
    "\n",
    "\n"
   ]
  },
  {
   "cell_type": "markdown",
   "metadata": {},
   "source": [
    "# TASK-2"
   ]
  },
  {
   "cell_type": "code",
   "execution_count": null,
   "metadata": {},
   "outputs": [],
   "source": [
    "B=[2,3,4,5]\n",
    "a=len(B)\n",
    "for i in range(a):\n",
    "    for j in B:\n",
    "        print(j**(i+1),end=\" \")\n",
    "    print(\"\\n\")\n",
    "        "
   ]
  },
  {
   "cell_type": "code",
   "execution_count": null,
   "metadata": {},
   "outputs": [],
   "source": []
  }
 ],
 "metadata": {
  "kernelspec": {
   "display_name": "Python 3",
   "language": "python",
   "name": "python3"
  },
  "language_info": {
   "codemirror_mode": {
    "name": "ipython",
    "version": 3
   },
   "file_extension": ".py",
   "mimetype": "text/x-python",
   "name": "python",
   "nbconvert_exporter": "python",
   "pygments_lexer": "ipython3",
   "version": "3.7.6"
  }
 },
 "nbformat": 4,
 "nbformat_minor": 4
}
