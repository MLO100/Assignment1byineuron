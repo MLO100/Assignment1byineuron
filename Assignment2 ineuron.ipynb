{
 "cells": [
  {
   "cell_type": "markdown",
   "metadata": {},
   "source": [
    "TASK-1\n"
   ]
  },
  {
   "cell_type": "code",
   "execution_count": null,
   "metadata": {},
   "outputs": [],
   "source": [
    "# Creating reduce function,it is answered by tutors of ineuron :\n",
    "def myreduce(fun, alist):\n",
    "    x = alist[0]\n",
    "    \n",
    "    for i in range(1, len(alist)):\n",
    "        x = fun(x, alist[i])\n",
    "    \n",
    "    return x\n",
    "\n",
    "def summ(x1, x2):\n",
    "    return x1 + x2\n",
    "\n",
    "def Product(x1, x2):\n",
    "    return(x1 * x2)\n",
    "\n",
    "a = [1, 2, 3, 4, 5]\n",
    "\n",
    "print(\"Sum of all element in list a :\", myreduce(summ, a))\n",
    "print(\"Product of all elements in list a :\", myreduce(Product, a))"
   ]
  },
  {
   "cell_type": "code",
   "execution_count": null,
   "metadata": {},
   "outputs": [],
   "source": [
    "#creating filter function\n",
    "def myfilter(a,list):\n",
    "    for i in range(0,len(list)):\n",
    "        x = a(list[i])\n",
    "    return x\n",
    "\n",
    "def even(e):\n",
    "    if e%2==0:\n",
    "         print(e)\n",
    "a = [6,2, 3, 4, 5]\n",
    "myfilter(even,a)"
   ]
  },
  {
   "cell_type": "code",
   "execution_count": null,
   "metadata": {},
   "outputs": [],
   "source": [
    "#Write List comprehensions to produce the following Lists\n",
    "s=str(\"ACADGILD\")\n",
    "e=[x for x in s]\n",
    "print(e)"
   ]
  },
  {
   "cell_type": "code",
   "execution_count": null,
   "metadata": {},
   "outputs": [],
   "source": [
    "input_=['x','y','z']\n",
    "d=[i*num for i in input_ for num in range(1,5)]\n",
    "print(d)\n"
   ]
  },
  {
   "cell_type": "code",
   "execution_count": null,
   "metadata": {},
   "outputs": [],
   "source": [
    "input_p=['x','y','z']\n",
    "j=[i*num for i in input_p for num in range(1,2)]\n",
    "k=[i*num for i in input_p for num in range(2,3)]\n",
    "l=[i*num for i in input_p for num in range(3,4)]\n",
    "m=j+k+l\n",
    "m"
   ]
  },
  {
   "cell_type": "code",
   "execution_count": null,
   "metadata": {},
   "outputs": [],
   "source": [
    "numbers=[2,3,4]\n",
    "m=[i+j for i in numbers for j in range(0,3)]\n",
    "m"
   ]
  },
  {
   "cell_type": "code",
   "execution_count": null,
   "metadata": {},
   "outputs": [],
   "source": [
    "numbers=[2,3,4,5]\n",
    "j=[[i+j for i in range(0,4)] for j in numbers]\n",
    "j\n"
   ]
  },
  {
   "cell_type": "code",
   "execution_count": null,
   "metadata": {},
   "outputs": [],
   "source": [
    "numbers=[1,2,3]\n",
    "j=[(j,i) for i in numbers for j in numbers]\n",
    "j"
   ]
  },
  {
   "cell_type": "code",
   "execution_count": null,
   "metadata": {},
   "outputs": [],
   "source": [
    "#Implement a function longestWord() that takes a list of words and returns the longest one\n",
    "def longestword(s):\n",
    "    length=0\n",
    "    a=s.split()\n",
    "    for i in a:\n",
    "        if (len(i)>length):\n",
    "            length=len(i)\n",
    "    return(i)\n",
    "longestword(\"India is my country\")\n",
    "    "
   ]
  },
  {
   "cell_type": "markdown",
   "metadata": {},
   "source": [
    "TASK-2"
   ]
  },
  {
   "cell_type": "code",
   "execution_count": null,
   "metadata": {},
   "outputs": [],
   "source": [
    "#Write a Python Program(with class concepts) to find the area of the triangle using the below\n",
    "#formula.\n",
    "#area = (s*(s-a)*(s-b)*(s-c)) ** 0.5\n",
    "#Function to take the length of the sides of triangle from user should be defined in the parent\n",
    "#class and function to calculate the area should be defined in subclass.\n",
    "\n",
    "\n",
    "class Area:                           #Parent class\n",
    "    def __init__(sides,a,b,c):\n",
    "        sides.a=a\n",
    "        sides.b=b\n",
    "        sides.c=c\n",
    "\n",
    "class Triangle(Area):                       #sub class triangle for parent class Area\n",
    "    def __init__(sides,*a):\n",
    "        super(Triangle,sides).__init__(*a)\n",
    "        \n",
    "    def area(sides):                                #function for area\n",
    "        s=(sides.a+sides.b+sides.c)/2\n",
    "        return (s*(s-sides.a)*(s-sides.b)*(s-sides.c)) ** 0.5\n",
    "\n",
    "s=Triangle(20,25,30)   #object created for triangle\n",
    "s.area()"
   ]
  },
  {
   "cell_type": "code",
   "execution_count": null,
   "metadata": {},
   "outputs": [],
   "source": [
    "#Write a function filter_long_words() that takes a list of words and an integer n and returns the list\n",
    "of words that are longer than n.\n",
    "def filterlongestword(s,number): \n",
    "    a=s.split()\n",
    "    for i in a:\n",
    "        if (len(i)>number):\n",
    "            print(i)\n",
    "filterlongestword((\"India is my country\"),3)"
   ]
  },
  {
   "cell_type": "code",
   "execution_count": null,
   "metadata": {},
   "outputs": [],
   "source": [
    "def lengthofword(s):\n",
    "    a=[]\n",
    "    for i in s.split():\n",
    "        print([len(i)])\n",
    "lengthofword(\"India is my country\")"
   ]
  },
  {
   "cell_type": "code",
   "execution_count": null,
   "metadata": {},
   "outputs": [],
   "source": [
    "def isvowel(str1):\n",
    "    vowels=[\"a\",\"e\",\"i\",\"o\",\"u\"]\n",
    "    for i in str1:\n",
    "        if i==vowels:\n",
    "            return True\n",
    "        return False\n",
    "isvowel(\"a\")"
   ]
  }
 ],
 "metadata": {
  "kernelspec": {
   "display_name": "Python 3",
   "language": "python",
   "name": "python3"
  },
  "language_info": {
   "codemirror_mode": {
    "name": "ipython",
    "version": 3
   },
   "file_extension": ".py",
   "mimetype": "text/x-python",
   "name": "python",
   "nbconvert_exporter": "python",
   "pygments_lexer": "ipython3",
   "version": "3.7.6"
  }
 },
 "nbformat": 4,
 "nbformat_minor": 4
}
