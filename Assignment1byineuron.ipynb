{
 "cells": [
  {
   "cell_type": "markdown",
   "metadata": {},
   "source": [
    "# TASK-1"
   ]
  },
  {
   "cell_type": "code",
   "execution_count": null,
   "metadata": {},
   "outputs": [],
   "source": [
    "#Get the number between 2000 and 3201 which are divided by 7 but not by 5\n",
    "number=int(input())\n",
    "Mylist=list(range(2000,number))\n",
    "for i in Mylist:\n",
    "      if (i% 7==0) and (i% 5 != 0):          \n",
    "        print(i)\n",
    "        "
   ]
  },
  {
   "cell_type": "code",
   "execution_count": null,
   "metadata": {},
   "outputs": [],
   "source": [
    "#reversing first name and last name \n",
    "Firstname =str(input())\n",
    "Lastname =str(input())\n",
    "a=len(Firstname)\n",
    "b=len(Lastname)\n",
    "Reverseorder1=Firstname[-1:-(a+1):-1]\n",
    "Reverseorder2=Lastname[-1:-(b+1):-1]\n",
    "print(Reverseorder1,Reverseorder2)         #print reverse of First name and Last name"
   ]
  },
  {
   "cell_type": "code",
   "execution_count": null,
   "metadata": {},
   "outputs": [],
   "source": [
    "#program to find the volume of a sphere with diameter 12 cm\n",
    "pi=3.14\n",
    "diameter=12\n",
    "volume=(4.0/3.0)*pi*((diameter/2)**3)\n",
    "print(volume)                                      "
   ]
  },
  {
   "cell_type": "markdown",
   "metadata": {},
   "source": [
    "# TASK-2\n"
   ]
  },
  {
   "cell_type": "code",
   "execution_count": null,
   "metadata": {},
   "outputs": [],
   "source": [
    "A=1,2,3,4,5,6,5    #CSV numbers\n",
    "B=list(A)\n",
    "B"
   ]
  },
  {
   "cell_type": "code",
   "execution_count": null,
   "metadata": {},
   "outputs": [],
   "source": [
    "#program to print a star pattern \n",
    "#This program is divided into two differnet star patterns\n",
    "for i in range(4) :         # star pattern for first four rows\n",
    "    for j in range(5) :     # first loop is the first dimension of matrix i.e row            \n",
    "        if (i>=j):           # second loop is the second dimension i.e column\n",
    "            print(\"*\",end=\"\")       \n",
    "        else:\n",
    "            print(\" \")\n",
    "for i in range(5) :\n",
    "    for j in range(5) :\n",
    "        if (i<=j):\n",
    "            print(\"*\",end=\"\")\n",
    "        else:\n",
    "            print(\" \")\n",
    "\n",
    "    "
   ]
  },
  {
   "cell_type": "code",
   "execution_count": null,
   "metadata": {},
   "outputs": [],
   "source": [
    "word=str(input())   #word input\n",
    "d=len(word)\n",
    "reverseword=word[-1:-(d+1):-1]\n",
    "reverseword                          #word reversed"
   ]
  },
  {
   "cell_type": "code",
   "execution_count": null,
   "metadata": {},
   "outputs": [],
   "source": [
    "a=\"\"\"WE, THE PEOPLE OF INDIA,\\n     having solemnly resolved to constitute India into a SOVEREIGN,\n",
    "       SOCIALIST, SECULAR, DEMOCRATIC REPUBLIC \\n       and to secure to all its citizens\"\"\"\n",
    "print(a)\n"
   ]
  },
  {
   "cell_type": "code",
   "execution_count": null,
   "metadata": {},
   "outputs": [],
   "source": []
  },
  {
   "cell_type": "code",
   "execution_count": null,
   "metadata": {},
   "outputs": [],
   "source": [
    "\n"
   ]
  },
  {
   "cell_type": "code",
   "execution_count": null,
   "metadata": {},
   "outputs": [],
   "source": []
  }
 ],
 "metadata": {
  "kernelspec": {
   "display_name": "Python 3",
   "language": "python",
   "name": "python3"
  },
  "language_info": {
   "codemirror_mode": {
    "name": "ipython",
    "version": 3
   },
   "file_extension": ".py",
   "mimetype": "text/x-python",
   "name": "python",
   "nbconvert_exporter": "python",
   "pygments_lexer": "ipython3",
   "version": "3.7.6"
  }
 },
 "nbformat": 4,
 "nbformat_minor": 4
}
